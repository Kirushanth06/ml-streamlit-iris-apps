import pickle
from sklearn.datasets import load_iris
from sklearn.model_selection import train_test_split
from sklearn.tree import DecisionTreeClassifier

# load dataset
iris = load_iris()
X, y = iris.data, iris.target

# split train and test
X_train, X_test, y_train, y_test = train_test_split(X, y, test_size=0.2, random_state=1)

# train model
clf = DecisionTreeClassifier()
clf.fit(X_train, y_train)

# check accuracy
print("Accuracy:", clf.score(X_test, y_test))

# save model
with open("iris_model.pkl", "wb") as f:
    pickle.dump(clf, f)

print("Model saved -> iris_model.pkl")